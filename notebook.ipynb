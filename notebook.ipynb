{
 "cells": [
  {
   "cell_type": "markdown",
   "id": "dfc6029a-63d9-4ba4-b9cd-9a3c3187f781",
   "metadata": {},
   "source": [
    "# Reto Extracción de texto"
   ]
  },
  {
   "cell_type": "markdown",
   "id": "c39def24-4118-44c6-8b72-75f172e37874",
   "metadata": {
    "tags": []
   },
   "source": [
    "#### **Author:** David Camilo Cortes Salazar"
   ]
  },
  {
   "cell_type": "markdown",
   "id": "d03d2d7a-7141-4715-b4c4-f0ea92bc8e67",
   "metadata": {
    "jp-MarkdownHeadingCollapsed": true,
    "tags": []
   },
   "source": [
    "### Dependencias"
   ]
  },
  {
   "cell_type": "code",
   "execution_count": 82,
   "id": "2c991a03-7005-40a4-8c26-f1a9b2b0e857",
   "metadata": {},
   "outputs": [],
   "source": [
    "import docx2pdf #docx to pdf\n",
    "import pdfplumber #pdf reader\n",
    "import pytesseract #OCR\n",
    "from PIL import Image #image reader\n",
    "from PIL.ExifTags import TAGS #image metadata aux\n",
    "\n",
    "from unicodedata import normalize #Normalize char\n",
    "import re #regex\n",
    "\n",
    "from gensim import corpora #Tokenizer\n",
    "from collections import defaultdict #Best dicts\n",
    "\n",
    "import matplotlib.pyplot as plt #Graphic ploter\n",
    "from wordcloud import WordCloud #BOG image\n",
    "\n",
    "from pprint import pprint #print aux"
   ]
  },
  {
   "cell_type": "markdown",
   "id": "2f31680e-83ea-4913-9857-d38df7aef9b3",
   "metadata": {
    "jp-MarkdownHeadingCollapsed": true,
    "tags": []
   },
   "source": [
    "## PNG\n",
    "Realizar extracción de texto líquido a partir de una imagen en formato PNG. Haga uso de un paquete en Python que implemente OCR (Optical Character Recognition). Buscar y aplicar a 5 imágenes que hablen de programación SQL en español."
   ]
  },
  {
   "cell_type": "markdown",
   "id": "ac5c0eb5-a3e8-4a98-b6df-d031951d4924",
   "metadata": {
    "jp-MarkdownHeadingCollapsed": true,
    "tags": []
   },
   "source": [
    "### Imagenes\n",
    "Presentación en pantalla de la imagen (escala de 200x200 pixeles)"
   ]
  },
  {
   "cell_type": "markdown",
   "id": "1f3d3f19-2777-4985-8b75-cc2ac187e1db",
   "metadata": {},
   "source": [
    "<img src=\"docs/png/i1.png\"\n",
    "     alt=\"Image 1\"\n",
    "     width=\"200\" \n",
    "     height=\"200\"\n",
    "      />\n",
    "<img src=\"docs/png/i2.png\"\n",
    "     alt=\"Image 2\"\n",
    "     width=\"200\" \n",
    "     height=\"200\"\n",
    "      />\n",
    "<img src=\"docs/png/i3.png\"\n",
    "     alt=\"Image 3\"\n",
    "     width=\"200\" \n",
    "     height=\"200\"\n",
    "      />\n",
    "<img src=\"docs/png/i4.png\"\n",
    "     alt=\"Image 4\"\n",
    "     width=\"200\" \n",
    "     height=\"200\"\n",
    "      />\n",
    "<img src=\"docs/png/i5.png\"\n",
    "     alt=\"Image 5\"\n",
    "     width=\"200\" \n",
    "     height=\"200\"\n",
    "      />"
   ]
  },
  {
   "cell_type": "markdown",
   "id": "247ba0af-b35c-4ac0-9f6b-64fd14cb3acc",
   "metadata": {
    "jp-MarkdownHeadingCollapsed": true,
    "tags": []
   },
   "source": [
    "### Extraccion de caracteres\n",
    "Muestra texto extraído de la imagen (primeros 250 caracteres)"
   ]
  },
  {
   "cell_type": "code",
   "execution_count": 2,
   "id": "1e9fece7-0e4a-4ba0-9468-445991dc5d6c",
   "metadata": {},
   "outputs": [],
   "source": [
    "pytesseract.pytesseract.tesseract_cmd = r'C:\\Program Files\\Tesseract-OCR\\tesseract.exe'"
   ]
  },
  {
   "cell_type": "code",
   "execution_count": 3,
   "id": "e6df3990-a0a5-447d-b320-c05ca7076b9a",
   "metadata": {},
   "outputs": [
    {
     "name": "stdout",
     "output_type": "stream",
     "text": [
      "#####\n",
      "i1.png:\n",
      " ~Qué es SQL?\n",
      "\n",
      "e SQL\n",
      "- Structured Query Language\n",
      "- Lenguaje de consulta estructurado\n",
      "- “Ordenes” SQL\n",
      "\n",
      "e Lenguaje de acceso a bases de datos relacionales\n",
      "\n",
      "e Es un estandar para sistemas de gestién de bases de\n",
      "datos relacionales\n",
      "- Oracle, Sybase, Micros\n",
      "\n",
      "#####\n",
      "i2.png:\n",
      " Lenguaje SQL\n",
      "\n",
      ">Que es SQL ???\n",
      "\n",
      "eEs un Lenguaje estandard de alto nivel\n",
      "con el cual los DBMS interactuan con las\n",
      "aplicaciones del usuario.\n",
      "\n",
      "eSu nombre es la cicla de “Structured\n",
      "Query Language”, que _ traducido al\n",
      "espafiol significa : Lenguaje de Cons\n",
      "\n",
      "#####\n",
      "i3.png:\n",
      " La instancia administrada de Azure SQL Database\n",
      "es la solucion PaaS de soporte y rendimiento\n",
      "\n",
      "Asesor inteligente y conocimientos inteligentes basados en machine learning,\n",
      "asi como recomendaciones basadas en un analisis de la raiz del problema\n",
      "\n",
      "Ajuste\n",
      "\n",
      "#####\n",
      "i4.png:\n",
      " fu Microsoft prodware™\n",
      "\n",
      "Descubre los beneficios de la modernizaci6n y\n",
      "El avelae-Maeli me Mlacit-laletmelelallaeieeclerme(-w-V40la-)\n",
      "\n",
      "SQL Database\n",
      "Moderniza tus cargas de trabajo de SQL Server 2008 y 2008\n",
      "R2 trasladandolas al cloud que mejor conoce SQ\n",
      "\n",
      "#####\n",
      "i5.png:\n",
      " SQL Server 2019\n",
      "\n",
      "Developer Edition\n",
      "\n",
      "Seleccione un tipo de instalacion:\n",
      "\n",
      "Basica\n",
      "\n",
      "Seleccione el tipo de instalacién\n",
      "Basica para instalar la\n",
      "funcionalidad de motor de base\n",
      "de datos de SQL Server con la\n",
      "configuracién predeterminada.\n",
      "\n",
      "oleselarl|P2-\\ele)\n",
      "\n",
      "\n",
      "\n"
     ]
    }
   ],
   "source": [
    "#Rutas\n",
    "files = ['docs/png/i1.png','docs/png/i2.png','docs/png/i3.png','docs/png/i4.png','docs/png/i5.png',]\n",
    "\n",
    "png_chars = []\n",
    "\n",
    "for file in files:\n",
    "    \n",
    "    #Abrir png\n",
    "    im = Image.open(file)\n",
    "    \n",
    "    #Extraemos texto\n",
    "    text = pytesseract.image_to_string(im)\n",
    "    \n",
    "    png_chars.append(text[:250])\n",
    "    print(f'#####\\n{file[9:]}:\\n {text[:250]}\\n')\n",
    "\n"
   ]
  },
  {
   "cell_type": "markdown",
   "id": "24e3a9ad-3003-40ca-8d59-08f19751444a",
   "metadata": {
    "jp-MarkdownHeadingCollapsed": true,
    "tags": []
   },
   "source": [
    "### Metadata\n",
    "Muestra la metadata del archivo PNG: titulo, autor, formato, fecha de creación, fecha de modificación"
   ]
  },
  {
   "cell_type": "code",
   "execution_count": 4,
   "id": "4a637e1e-931e-45f5-83c5-c2f6c2d0eead",
   "metadata": {},
   "outputs": [
    {
     "name": "stdout",
     "output_type": "stream",
     "text": [
      "#####\n",
      "i1.png:\n",
      "{'DocumentName': 'Â¿QuÃ© es SQL? SQL Lenguaje de acceso a bases de datos '\n",
      "                 'relacionales',\n",
      " 'ImageDescription': 'Structured Query Language. Lenguaje de consulta '\n",
      "                     'estructurado. Ã\\x93rdenes SQL. Lenguaje de acceso a '\n",
      "                     'bases de datos relacionales. Es un estÃ¡ndar para '\n",
      "                     'sistemas de gestiÃ³n de bases de datos relacionales. '\n",
      "                     'Oracle, Sybase, Microsoft SQL Server, Access, Ingres, '\n",
      "                     'â\\x80¦ Extensiones propietarias SQL.',\n",
      " 'ResolutionUnit': 3,\n",
      " 'Software': 'SlidePlayer',\n",
      " 'XResolution': 37.0,\n",
      " 'YCbCrPositioning': 1,\n",
      " 'YResolution': 37.0}\n",
      "#####\n",
      "i2.png:\n",
      "{'DocumentName': 'Lenguaje SQL Que es SQL Es un Lenguaje estandard de alto '\n",
      "                 'nivel con el cual los DBMS interactuan con las aplicaciones '\n",
      "                 'del usuario.',\n",
      " 'ImageDescription': 'Su nombre es la cicla de Structured Query Language , que '\n",
      "                     'traducido al espaÃ±ol significa : Lenguaje de Consultas '\n",
      "                     'Estructurado.',\n",
      " 'ResolutionUnit': 2,\n",
      " 'Software': 'SlidePlayer',\n",
      " 'XResolution': 200.0,\n",
      " 'YCbCrPositioning': 1,\n",
      " 'YResolution': 200.0}\n",
      "#####\n",
      "i3.png:\n",
      "{}\n",
      "#####\n",
      "i4.png:\n",
      "{}\n",
      "#####\n",
      "i5.png:\n",
      "{}\n"
     ]
    }
   ],
   "source": [
    "#Rutas\n",
    "files = ['docs/png/i1.png','docs/png/i2.png','docs/png/i3.png','docs/png/i4.png','docs/png/i5.png',]\n",
    "\n",
    "for file in files:\n",
    "    exif = {}\n",
    "    image = Image.open(file)\n",
    "    \n",
    "    for tag, value in image.getexif().items():\n",
    "        if tag in TAGS:\n",
    "            exif[TAGS[tag]] = value\n",
    "    \n",
    "    print(f'#####\\n{file[9:]}:')\n",
    "    pprint(exif)\n",
    "\n",
    "    "
   ]
  },
  {
   "cell_type": "markdown",
   "id": "3c038ca9-ffa4-45e6-bc73-5198b56527ba",
   "metadata": {
    "jp-MarkdownHeadingCollapsed": true,
    "tags": []
   },
   "source": [
    "## PDF\n",
    "Realizar extracción de texto desde un archivo en formato PDF. Haga uso de un paquete en Python que implemente lectura y extracción de datos desde un PDF. Buscar y aplicar a 5 documentos que hablen de programación SQL en español."
   ]
  },
  {
   "cell_type": "markdown",
   "id": "997efe1f-9045-4424-82f0-3f00606d2587",
   "metadata": {
    "jp-MarkdownHeadingCollapsed": true,
    "tags": []
   },
   "source": [
    "### Extraccion de caracteres\n",
    "Muestra texto extraído del documento PDF (primeros 250 caracteres)"
   ]
  },
  {
   "cell_type": "code",
   "execution_count": 5,
   "id": "9d76bb61-d8ef-4281-b19f-9de6282a5655",
   "metadata": {},
   "outputs": [
    {
     "name": "stdout",
     "output_type": "stream",
     "text": [
      "#####\n",
      "p1.pdf:\n",
      " 2.5.- El lenguaje estándar SQL\n",
      "• El SQL es un lenguaje estándar de definición y manipulación (y consulta) de \n",
      "bases de datos relacionales.\n",
      "• El SQL estándar incluye:\n",
      "• Características del Álgebra Relacional.\n",
      "• Características del Cálculo Relacional d\n",
      "\n",
      "#####\n",
      "p2.pdf:\n",
      " SQL SERVER VS MySQL\n",
      "Autores: Jose Santamaría y Javier Hernández\n",
      "Microsoft SQL Server\n",
      "Microsoft SQL Server es un sistema de gestión de base de datos relacional (RDBMS) \n",
      "producido por Microsoft. Su principal lenguaje de consulta es Transact-SQL, una \n",
      "a\n",
      "\n",
      "#####\n",
      "p3.pdf:\n",
      " Consultas SQL (SELECT) \n",
      "Consultas sencillas \n",
      "Devolver todos los campos de una tabla (SELECT *) \n",
      " \n",
      "SELECT *  \n",
      "FROM CLIENTES \n",
      "Con el * indicamos que queremos devolver todos los campos. Si CLIENTES dispone de los \n",
      "campos idCliente, nombre y descripcion,\n",
      "\n",
      "#####\n",
      "p4.pdf:\n",
      " Bases de datos  MTIG \n",
      "Práctica 3.   Consultas SQL \n",
      "1. Enunciado \n",
      "En este ejercicio se realizarán consultas SQL que respondan a las preguntas que se \n",
      "plantearán sin utilizar QBE. Dada una base de datos denominada Empresa y definida por \n",
      "las siguientes\n",
      "\n",
      "#####\n",
      "p5.pdf:\n",
      " Universidad Veracruzana               Taller de Integración III  \n",
      "Facultad de Estadística e Informática                \n",
      " \n",
      "MANUALITO MS-SQL SERVER \n",
      " \n",
      "Contenido \n",
      "1.  Crear Store Procedures en MS SQL Server ..............................................\n",
      "\n"
     ]
    }
   ],
   "source": [
    "#Rutas\n",
    "files = ['docs/pdf/p1.pdf','docs/pdf/p2.pdf','docs/pdf/p3.pdf','docs/pdf/p4.pdf','docs/pdf/p5.pdf']\n",
    "\n",
    "pdf_chars = []\n",
    "extr_text = ''\n",
    "\n",
    "for file in files:\n",
    "    \n",
    "    #Abrir pdf\n",
    "    pdf = pdfplumber.open(file)\n",
    "\n",
    "    num_page = 0\n",
    "\n",
    "    extr_text = ''\n",
    "    \n",
    "    for page in pdf.pages:\n",
    "        \n",
    "        #Extraer texto\n",
    "        raw_page = page.extract_text()\n",
    "\n",
    "        #Seleccionar caracteres\n",
    "        for char in raw_page:\n",
    "            extr_text += char\n",
    "        \n",
    "        #Seleccionar exactamenbte 250 caracteres\n",
    "        if len(extr_text) >= 250:\n",
    "            extr_text = extr_text[0:250]\n",
    "            break\n",
    "\n",
    "        num_page += 1\n",
    "        \n",
    "    pdf_chars.append(extr_text)\n",
    "    print(f'#####\\n{file[9:]}:\\n {extr_text}\\n')"
   ]
  },
  {
   "cell_type": "markdown",
   "id": "085a8ac2-9934-49b6-8c08-86a7ecb82b0b",
   "metadata": {
    "jp-MarkdownHeadingCollapsed": true,
    "tags": []
   },
   "source": [
    "### Metadata\n",
    "Muestra la metadata del archivo PDF: titulo, autor, formato, fecha de creación, fecha de modificación"
   ]
  },
  {
   "cell_type": "code",
   "execution_count": 6,
   "id": "46613d74-4682-4b4b-889b-4f773d3cc920",
   "metadata": {},
   "outputs": [
    {
     "name": "stdout",
     "output_type": "stream",
     "text": [
      "#####\n",
      "p1.pdf:\n",
      "{'Author': 'jorallo',\n",
      " 'CreationDate': 'D:20030206175659',\n",
      " 'Creator': 'Microsoft PowerPoint - [Tema2a.ppt]',\n",
      " 'Producer': 'Acrobat PDFWriter 5.0 para Windows NT',\n",
      " 'Title': 'Tema2a.ppt'}\n",
      "#####\n",
      "p2.pdf:\n",
      "{'Author': 'BICHO-HP',\n",
      " 'CreationDate': \"D:20080208202106+01'00'\",\n",
      " 'Creator': 'Writer',\n",
      " 'Producer': 'OpenOffice.org 2.3',\n",
      " 'Title': 'Microsoft SQL Server'}\n",
      "#####\n",
      "p3.pdf:\n",
      "{'Author': 'Muevo',\n",
      " 'CreationDate': \"D:20131128103846+01'00'\",\n",
      " 'Creator': 'Microsoft® Word 2010',\n",
      " 'ModDate': \"D:20131128103846+01'00'\",\n",
      " 'Producer': 'Microsoft® Word 2010'}\n",
      "#####\n",
      "p4.pdf:\n",
      "{'Author': 'fernan',\n",
      " 'CreationDate': \"D:20110120124446+01'00'\",\n",
      " 'Creator': 'PScript5.dll Version 5.2.2',\n",
      " 'ModDate': \"D:20110120124446+01'00'\",\n",
      " 'Producer': 'Acrobat Distiller 7.0.5 (Windows)',\n",
      " 'Title': 'Microsoft Word - Práct. 3. SQL.doc'}\n",
      "#####\n",
      "p5.pdf:\n",
      "{'Author': 'David Sarmiento',\n",
      " 'CreationDate': 'D:20120307114602',\n",
      " 'Creator': 'Microsoft® Office Word 2007',\n",
      " 'ModDate': 'D:20120307114602',\n",
      " 'Producer': 'Microsoft® Office Word 2007'}\n"
     ]
    }
   ],
   "source": [
    "#Rutas\n",
    "files = ['docs/pdf/p1.pdf','docs/pdf/p2.pdf','docs/pdf/p3.pdf','docs/pdf/p4.pdf','docs/pdf/p5.pdf']\n",
    "\n",
    "for file in files:\n",
    "    \n",
    "    #Abrir pdf\n",
    "    pdf = pdfplumber.open(file)\n",
    "    \n",
    "    #Obtener info\n",
    "    print(f'#####\\n{file[9:]}:')\n",
    "    pprint(pdf.metadata)\n"
   ]
  },
  {
   "cell_type": "markdown",
   "id": "076a5ddc-adb6-45a7-8eb0-6501bbad8814",
   "metadata": {
    "jp-MarkdownHeadingCollapsed": true,
    "tags": []
   },
   "source": [
    "## DOCX\n",
    "Realizar extracción de texto desde un archivo en formato DOCX. Haga uso de un paquete en Python que implemente conversión DOCX a PDF. Buscar y aplicar a 5 documentos que hablen de programación SQL en español."
   ]
  },
  {
   "cell_type": "markdown",
   "id": "120aa95b-29d2-4724-9a4d-26b265b81a81",
   "metadata": {
    "jp-MarkdownHeadingCollapsed": true,
    "tags": []
   },
   "source": [
    "### Docx a Pdf\n",
    "Conversión documento DOCX a PDF y almacenarlo localmente"
   ]
  },
  {
   "cell_type": "code",
   "execution_count": 7,
   "id": "b36f7b4e-935d-4572-9f95-375d86274778",
   "metadata": {},
   "outputs": [
    {
     "name": "stderr",
     "output_type": "stream",
     "text": [
      "100%|████████████████████████████████████████████████████████████████████████████████████| 1/1 [00:03<00:00,  3.48s/it]\n",
      "100%|████████████████████████████████████████████████████████████████████████████████████| 1/1 [00:03<00:00,  3.57s/it]\n",
      "100%|████████████████████████████████████████████████████████████████████████████████████| 1/1 [00:02<00:00,  2.18s/it]\n",
      "100%|████████████████████████████████████████████████████████████████████████████████████| 1/1 [00:02<00:00,  2.19s/it]\n",
      "100%|████████████████████████████████████████████████████████████████████████████████████| 1/1 [00:03<00:00,  3.15s/it]\n"
     ]
    }
   ],
   "source": [
    "#Rutas\n",
    "files = ['docs/docx/d1.docx','docs/docx/d2.docx','docs/docx/d3.docx','docs/docx/d4.docx','docs/docx/d5.docx']\n",
    "\n",
    "#Conversion y guardado\n",
    "for file in files:\n",
    "  docx2pdf.convert(file, 'docs/pdf/' + file[10:-4] + 'pdf')"
   ]
  },
  {
   "cell_type": "markdown",
   "id": "0ace74ba-606d-4993-8e6e-12ce4bfbecd1",
   "metadata": {
    "jp-MarkdownHeadingCollapsed": true,
    "tags": []
   },
   "source": [
    "### Extraccion de caracteres\n",
    "Muestra texto extraído del documento PDF (primeros 250 caracteres)"
   ]
  },
  {
   "cell_type": "code",
   "execution_count": 8,
   "id": "7ef4a961-bf6c-4d64-91f9-c53b0778bf5b",
   "metadata": {},
   "outputs": [
    {
     "name": "stdout",
     "output_type": "stream",
     "text": [
      "#####\n",
      "d1.pdf:  \n",
      "Proceso de configuración de SQL Server Express \n",
      " \n",
      "ATENCIÓN: SEGUIR PASO POR PASO SIN SALTEARSE NI OMITIR \n",
      "NINGUNA ETAPA \n",
      " \n",
      "Chequeo previo instalación \n",
      "1.  Chequear que el usuario de Windows de la  computadora del cliente tenga permisos de Administr\n",
      "\n",
      "#####\n",
      "d2.pdf:      \n",
      " \n",
      " \n",
      "Regulador de recursos de SQL Server 2012 \n",
      " \n",
      "Artículo técnico de SQL Server \n",
      " \n",
      "Autor: Guy Bowerman \n",
      "Revisores técnicos: Jim van de Erve, Lindsey Allen (ZHU), Madhan Arumugam \n",
      "Ramakrishnan, Xin Jin \n",
      " \n",
      "Fecha de publicación: julio de 2012 \n",
      "Se a\n",
      "\n",
      "#####\n",
      "d3.pdf: SQL Server DBA job profile \n",
      "SQL Server Database Administrators are responsible for the implementation, configuration, \n",
      "maintenance, and performance of critical SQL Server RDBMS systems. Their main goal is to ensure \n",
      "the availability and consistent pe\n",
      "\n",
      "#####\n",
      "d4.pdf: SQL Server Managed Services Monitor Deliverables  7/2012   \n",
      " \n",
      "Service Overview \n",
      "The scope of this engagement is to deliver a SQL Server managed service, monitoring SQL Servers’ \n",
      "operational parameters. Following a task list, that meets the business a\n",
      "\n",
      "#####\n",
      "d5.pdf: Overview of SQL Server Always On Listeners \n",
      "Availability databases hosted on SQL Server Always On Availability Groups (AG) can be connected using \n",
      "a unique Virtual Network Name (VNN), called the Availability Group Listener. When an Availability Group\n",
      "\n"
     ]
    }
   ],
   "source": [
    "#Rutas\n",
    "files = ['docs/pdf/d1.pdf','docs/pdf/d2.pdf','docs/pdf/d3.pdf','docs/pdf/d4.pdf','docs/pdf/d5.pdf']\n",
    "\n",
    "docx_chars = []\n",
    "extr_text = ''\n",
    "\n",
    "for file in files:\n",
    "    \n",
    "    #Abrir pdf\n",
    "    pdf = pdfplumber.open(file)\n",
    "\n",
    "    num_page = 0\n",
    "\n",
    "    extr_text = ''\n",
    "    \n",
    "    for page in pdf.pages:\n",
    "        \n",
    "        #Extraer texto\n",
    "        raw_page = page.extract_text()\n",
    "\n",
    "        #Seleccionar caracteres\n",
    "        for char in raw_page:\n",
    "            extr_text += char\n",
    "        \n",
    "        #Seleccionar exactamenbte 250 caracteres\n",
    "        if len(extr_text) >= 250:\n",
    "            extr_text = extr_text[0:250]\n",
    "            break\n",
    "\n",
    "        num_page += 1\n",
    "    \n",
    "    docx_chars.append(extr_text)\n",
    "    print(f'#####\\n{file[9:]}: {extr_text}\\n')"
   ]
  },
  {
   "cell_type": "markdown",
   "id": "ad40f8ba-95d5-4885-ab09-610656defa23",
   "metadata": {
    "jp-MarkdownHeadingCollapsed": true,
    "tags": []
   },
   "source": [
    "### Metadata\n",
    "Muestra la metadata del archivo PDF: titulo, autor, formato, fecha de creación, fecha de modificación"
   ]
  },
  {
   "cell_type": "code",
   "execution_count": 9,
   "id": "1c79163e-5bc9-4996-bd28-4e90d9fec728",
   "metadata": {},
   "outputs": [
    {
     "name": "stdout",
     "output_type": "stream",
     "text": [
      "#####\n",
      "d1.pdf:\n",
      "{'Author': 'nicolas',\n",
      " 'CreationDate': \"D:20220428200733-05'00'\",\n",
      " 'Creator': 'Microsoft® Word para Microsoft 365',\n",
      " 'ModDate': \"D:20220428200733-05'00'\",\n",
      " 'Producer': 'Microsoft® Word para Microsoft 365',\n",
      " 'Title': 'Proceso de configuración de SQL Server Express'}\n",
      "#####\n",
      "d2.pdf:\n",
      "{'Author': 'Beth Inghram (Linda Werner & Associates Inc)',\n",
      " 'CreationDate': \"D:20220428200739-05'00'\",\n",
      " 'Creator': 'Microsoft® Word para Microsoft 365',\n",
      " 'ModDate': \"D:20220428200739-05'00'\",\n",
      " 'Producer': 'Microsoft® Word para Microsoft 365',\n",
      " 'Title': 'Resource Governor in SQL Server 2012'}\n",
      "#####\n",
      "d3.pdf:\n",
      "{'Author': 'Andrea Kimbrell',\n",
      " 'CreationDate': \"D:20220428200743-05'00'\",\n",
      " 'Creator': 'Microsoft® Word para Microsoft 365',\n",
      " 'ModDate': \"D:20220428200743-05'00'\",\n",
      " 'Producer': 'Microsoft® Word para Microsoft 365'}\n",
      "#####\n",
      "d4.pdf:\n",
      "{'Author': 'Josh B. Thomas',\n",
      " 'CreationDate': \"D:20220428200747-05'00'\",\n",
      " 'Creator': 'Microsoft® Word para Microsoft 365',\n",
      " 'ModDate': \"D:20220428200747-05'00'\",\n",
      " 'Producer': 'Microsoft® Word para Microsoft 365'}\n",
      "#####\n",
      "d5.pdf:\n",
      "{'Author': 'Venkat Ram Prasad Anumalasetty (CIS)',\n",
      " 'CreationDate': \"D:20220428200752-05'00'\",\n",
      " 'Creator': 'Microsoft® Word para Microsoft 365',\n",
      " 'ModDate': \"D:20220428200752-05'00'\",\n",
      " 'Producer': 'Microsoft® Word para Microsoft 365'}\n"
     ]
    }
   ],
   "source": [
    "#Rutas\n",
    "files = ['docs/pdf/d1.pdf','docs/pdf/d2.pdf','docs/pdf/d3.pdf','docs/pdf/d4.pdf','docs/pdf/d5.pdf']\n",
    "\n",
    "for file in files:\n",
    "    \n",
    "    #Abrir pdf\n",
    "    pdf = pdfplumber.open(file)\n",
    "    \n",
    "    #Obtener info\n",
    "    #Obtener info\n",
    "    print(f'#####\\n{file[9:]}:')\n",
    "    pprint(pdf.metadata)\n",
    "\n"
   ]
  },
  {
   "cell_type": "markdown",
   "id": "13b07474-480c-4242-b4a2-35098c926740",
   "metadata": {
    "jp-MarkdownHeadingCollapsed": true,
    "tags": []
   },
   "source": [
    "## Limpieza y BOW\n",
    "1. Realizar un proceso de limpieza básica del texto para normalizarlo y estandarizarlo. Aplique funciones de transformación de texto con expresiones regulares en caso de ser necesario. Aplicar a las extracciones realizadas de forma individual\n",
    "2. Realizar un conteo de frecuencia de las palabras y mostrar un BOW (Bag of Words) con el top de 100 palabras más frecuentes. Utilice un paquete que presente el top en formato imagen. Combinar todas las extracciones realizadas."
   ]
  },
  {
   "cell_type": "code",
   "execution_count": 45,
   "id": "f632ee5c-81ca-4d67-883a-2a6dd6cbbed9",
   "metadata": {},
   "outputs": [],
   "source": [
    "png_raw = png_chars.copy()\n",
    "pdf_raw = pdf_chars.copy()\n",
    "docx_raw = docx_chars.copy()"
   ]
  },
  {
   "cell_type": "markdown",
   "id": "f4dfa4b9-ae38-4a67-a7ae-d31b8154d779",
   "metadata": {
    "jp-MarkdownHeadingCollapsed": true,
    "tags": []
   },
   "source": [
    "### Normalización"
   ]
  },
  {
   "cell_type": "markdown",
   "id": "93086b6d-1f54-444d-8ead-d5d07966d903",
   "metadata": {},
   "source": [
    "Texto con todos los acentos y tildes eliminados"
   ]
  },
  {
   "cell_type": "code",
   "execution_count": 49,
   "id": "ddc9b021-7bb3-4559-9fd9-2bb8ddd3c59a",
   "metadata": {},
   "outputs": [],
   "source": [
    "#PNG data\n",
    "for i in range(len(png_raw)):\n",
    "    \n",
    "    #Remplaza cada caracter por su forma normal aplicando \" compatibility decomposition\" (NFKD)\n",
    "    png_raw[i] = normalize(\"NFKD\", png_raw[i]).encode(\"ascii\",\"ignore\").decode(\"ascii\")\n",
    "\n",
    "#PDF data\n",
    "for i in range(len(pdf_raw)):\n",
    "    \n",
    "    #Remplaza cada caracter por su forma normal aplicando \" compatibility decomposition\" (NFKD)\n",
    "    pdf_raw[i] = normalize(\"NFKD\", pdf_raw[i]).encode(\"ascii\",\"ignore\").decode(\"ascii\")\n",
    "\n",
    "#DOCX data\n",
    "for i in range(len(docx_raw)):\n",
    "    \n",
    "    #Remplaza cada caracter por su forma normal aplicando \" compatibility decomposition\" (NFKD)\n",
    "    docx_raw[i] = normalize(\"NFKD\", docx_raw[i]).encode(\"ascii\",\"ignore\").decode(\"ascii\")"
   ]
  },
  {
   "cell_type": "markdown",
   "id": "fdf26e3b-6fd8-49d0-a5bf-cba768740bab",
   "metadata": {},
   "source": [
    "Texto sin los signos de puntuación y caracteres especiales"
   ]
  },
  {
   "cell_type": "code",
   "execution_count": 50,
   "id": "c8490e34-8afa-46ff-a938-f2e10046aac5",
   "metadata": {},
   "outputs": [],
   "source": [
    "#PNG data\n",
    "for i in range(len(png_raw)):\n",
    "    \n",
    "    data = png_raw[i]\n",
    "    data = re.sub(r'[^a-zA-Z\\s]', \"\", data) #Elimina carateres eseciales\n",
    "    data = re.sub(r'[\\n]', \" \", data) #Elimina salto en linea\n",
    "    data = re.sub(r'[\\s]{2,}', \" \", data) #Elimina espacios seguidos\n",
    "    \n",
    "    png_raw[i] = data\n",
    "\n",
    "#PDF data\n",
    "for i in range(len(pdf_raw)):\n",
    "    \n",
    "    data = pdf_raw[i]\n",
    "    data = re.sub(r'[^a-zA-Z\\s]', \"\", data) #Elimina carateres eseciales\n",
    "    data = re.sub(r'[\\n]', \" \", data) #Elimina salto en linea\n",
    "    data = re.sub(r'[\\s]{2,}', \" \", data) #Elimina espacios seguidos\n",
    "    \n",
    "    pdf_raw[i] = data\n",
    "\n",
    "#DOCX data\n",
    "for i in range(len(docx_raw)):\n",
    "    \n",
    "    data = docx_raw[i]\n",
    "    data = re.sub(r'[^a-zA-Z\\s]', \"\", data) #Elimina carateres eseciales\n",
    "    data = re.sub(r'[\\n]', \" \", data) #Elimina salto en linea\n",
    "    data = re.sub(r'[\\s]{2,}', \" \", data) #Elimina espacios seguidos\n",
    "    \n",
    "    docx_raw[i] = data"
   ]
  },
  {
   "cell_type": "markdown",
   "id": "c87f493c-7677-4874-92f4-172b548f310c",
   "metadata": {},
   "source": [
    "Texto en minúsculas"
   ]
  },
  {
   "cell_type": "code",
   "execution_count": 51,
   "id": "82e646ee-8286-4167-915c-c3c77f907151",
   "metadata": {},
   "outputs": [],
   "source": [
    "#PNG data\n",
    "for i in range(len(png_raw)):\n",
    "    png_raw[i] = png_raw[i].lower()\n",
    "    \n",
    "#PDF data\n",
    "for i in range(len(pdf_raw)):\n",
    "    pdf_raw[i] = pdf_raw[i].lower()\n",
    "\n",
    "#DOCX data\n",
    "for i in range(len(docx_raw)):\n",
    "    docx_raw[i] = docx_raw[i].lower()"
   ]
  },
  {
   "cell_type": "markdown",
   "id": "41f940b7-747e-4bcc-ab8b-957236b073f1",
   "metadata": {},
   "source": [
    "Muestra de los datos crudos y limpios para compararlos"
   ]
  },
  {
   "cell_type": "code",
   "execution_count": 52,
   "id": "82a2e645-723b-43eb-8d1d-bdac939f868c",
   "metadata": {},
   "outputs": [
    {
     "name": "stdout",
     "output_type": "stream",
     "text": [
      "PNG:\n",
      "['que es sql e sql structured query language lenguaje de consulta estructurado ordenes sql e lenguaje de acceso a bases de datos relacionales e es un estandar para sistemas de gestien de bases de datos relacionales oracle sybase micros', 'lenguaje sql que es sql ees un lenguaje estandard de alto nivel con el cual los dbms interactuan con las aplicaciones del usuario esu nombre es la cicla de structured query language que traducido al espafiol significa lenguaje de cons', 'la instancia administrada de azure sql database es la solucion paas de soporte y rendimiento asesor inteligente y conocimientos inteligentes basados en machine learning asi como recomendaciones basadas en un analisis de la raiz del problema ajuste', 'fu microsoft prodwaretm descubre los beneficios de la modernizacin y el avelaemaeli me mlacitlaletmelelallaeieeclermewvla sql database moderniza tus cargas de trabajo de sql server y r trasladandolas al cloud que mejor conoce sq', 'sql server developer edition seleccione un tipo de instalacion basica seleccione el tipo de instalacien basica para instalar la funcionalidad de motor de base de datos de sql server con la configuracien predeterminada oleselarlpele ']\n",
      "\n",
      "PDF:\n",
      "[' el lenguaje estandar sql el sql es un lenguaje estandar de definicion y manipulacion y consulta de bases de datos relacionales el sql estandar incluye caracteristicas del algebra relacional caracteristicas del calculo relacional d', 'sql server vs mysql autores jose santamaria y javier hernandez microsoft sql server microsoft sql server es un sistema de gestion de base de datos relacional rdbms producido por microsoft su principal lenguaje de consulta es transactsql una a', 'consultas sql select consultas sencillas devolver todos los campos de una tabla select select from clientes con el indicamos que queremos devolver todos los campos si clientes dispone de los campos idcliente nombre y descripcion', 'bases de datos mtig practica consultas sql enunciado en este ejercicio se realizaran consultas sql que respondan a las preguntas que se plantearan sin utilizar qbe dada una base de datos denominada empresa y definida por las siguientes', 'universidad veracruzana taller de integracion iii facultad de estadistica e informatica manualito mssql server contenido crear store procedures en ms sql server ']\n",
      "\n",
      "DOCX:\n",
      "[' proceso de configuracion de sql server express atencion seguir paso por paso sin saltearse ni omitir ninguna etapa chequeo previo instalacion chequear que el usuario de windows de la computadora del cliente tenga permisos de administr', ' regulador de recursos de sql server articulo tecnico de sql server autor guy bowerman revisores tecnicos jim van de erve lindsey allen zhu madhan arumugam ramakrishnan xin jin fecha de publicacion julio de se a', 'sql server dba job profile sql server database administrators are responsible for the implementation configuration maintenance and performance of critical sql server rdbms systems their main goal is to ensure the availability and consistent pe', 'sql server managed services monitor deliverables service overview the scope of this engagement is to deliver a sql server managed service monitoring sql servers operational parameters following a task list that meets the business a', 'overview of sql server always on listeners availability databases hosted on sql server always on availability groups ag can be connected using a unique virtual network name vnn called the availability group listener when an availability group']\n",
      "\n"
     ]
    }
   ],
   "source": [
    "print(f'PNG:\\n{png_raw}\\n')\n",
    "print(f'PDF:\\n{pdf_raw}\\n')\n",
    "print(f'DOCX:\\n{docx_raw}\\n')"
   ]
  },
  {
   "cell_type": "markdown",
   "id": "b8746892-5655-45ed-b721-dea5ac2bd23a",
   "metadata": {
    "jp-MarkdownHeadingCollapsed": true,
    "tags": []
   },
   "source": [
    "### Extraccion Palabras"
   ]
  },
  {
   "cell_type": "code",
   "execution_count": 81,
   "id": "0140d479-b892-4eb4-8512-019b87b284d2",
   "metadata": {},
   "outputs": [],
   "source": [
    "png_words, pdf_words, docx_words = [], [], []\n",
    "\n",
    "#Lista de palabras que no nos interesan\n",
    "stoplist = ['a', 'e', 'r', 'un', 'una', 'uno', 'con', 'el', 'la', 'las', 'los', 'de', 'del', 'es', 'era', 'y', 'para', 'que', 'cual', 'al', 'en']\n",
    "\n",
    "#Creacion de un corpus procesado\n",
    "for document in png_raw:\n",
    "    text = [word for word in document.split() if word not in stoplist]\n",
    "    png_words.append(text)\n",
    "\n",
    "for document in pdf_raw:\n",
    "    text = [word for word in document.split() if word not in stoplist]\n",
    "    pdf_words.append(text)\n",
    "\n",
    "for document in docx_raw:\n",
    "    text = [word for word in document.split() if word not in stoplist]\n",
    "    docx_words.append(text)"
   ]
  },
  {
   "cell_type": "markdown",
   "id": "d855b60f-a5ab-49b3-bede-6a643e44b4e8",
   "metadata": {
    "jp-MarkdownHeadingCollapsed": true,
    "tags": []
   },
   "source": [
    "### Frecuencia\n",
    "Diccionario con cada palabra y su frecuencia"
   ]
  },
  {
   "cell_type": "code",
   "execution_count": 80,
   "id": "13331c66-11f6-4e83-8e4a-95a021e6612d",
   "metadata": {},
   "outputs": [
    {
     "name": "stdout",
     "output_type": "stream",
     "text": [
      "{'que': 8, 'sql': 124, 'structured': 8, 'query': 8, 'language': 8, 'lenguaje': 32, 'consulta': 12, 'estructurado': 4, 'ordenes': 4, 'acceso': 4, 'bases': 16, 'datos': 28, 'relacionales': 12, 'estandar': 16, 'para': 2, 'sistemas': 4, 'gestien': 4, 'oracle': 4, 'sybase': 4, 'micros': 4, 'ees': 4, 'estandard': 4, 'alto': 4, 'nivel': 4, 'con': 4, 'cual': 1, 'los': 5, 'dbms': 4, 'interactuan': 4, 'las': 3, 'aplicaciones': 4, 'del': 5, 'usuario': 8, 'esu': 4, 'nombre': 8, 'cicla': 4, 'traducido': 4, 'espafiol': 4, 'significa': 4, 'cons': 4, 'instancia': 4, 'administrada': 4, 'azure': 4, 'database': 12, 'solucion': 4, 'paas': 4, 'soporte': 4, 'rendimiento': 4, 'asesor': 4, 'inteligente': 4, 'conocimientos': 4, 'inteligentes': 4, 'basados': 4, 'machine': 4, 'learning': 4, 'asi': 4, 'como': 4, 'recomendaciones': 4, 'basadas': 4, 'analisis': 4, 'raiz': 4, 'problema': 4, 'ajuste': 4, 'microsoft': 16, 'prodwaretm': 4, 'descubre': 4, 'beneficios': 4, 'modernizacin': 4, 'avelaemaeli': 4, 'mlacitlaletmelelallaeieeclermewvla': 4, 'moderniza': 4, 'tus': 4, 'cargas': 4, 'trabajo': 4, 'server': 72, 'trasladandolas': 4, 'cloud': 4, 'mejor': 4, 'conoce': 4, 'developer': 4, 'edition': 4, 'seleccione': 8, 'tipo': 8, 'instalacion': 8, 'basica': 8, 'instalacien': 4, 'instalar': 4, 'funcionalidad': 4, 'motor': 4, 'base': 12, 'configuracien': 4, 'predeterminada': 4, 'oleselarlpele': 4, 'definicion': 4, 'manipulacion': 4, 'incluye': 4, 'caracteristicas': 8, 'algebra': 4, 'relacional': 12, 'calculo': 4, 'mysql': 4, 'autores': 4, 'jose': 4, 'santamaria': 4, 'javier': 4, 'hernandez': 4, 'sistema': 4, 'gestion': 4, 'rdbms': 8, 'producido': 4, 'por': 12, 'principal': 4, 'transactsql': 4, 'una': 3, 'consultas': 16, 'select': 12, 'sencillas': 4, 'devolver': 8, 'todos': 8, 'campos': 12, 'tabla': 4, 'from': 4, 'clientes': 8, 'indicamos': 4, 'queremos': 4, 'dispone': 4, 'idcliente': 4, 'descripcion': 4, 'mtig': 4, 'practica': 4, 'enunciado': 4, 'este': 4, 'ejercicio': 4, 'realizaran': 4, 'respondan': 4, 'preguntas': 4, 'plantearan': 4, 'sin': 8, 'utilizar': 4, 'qbe': 4, 'dada': 4, 'denominada': 4, 'empresa': 4, 'definida': 4, 'siguientes': 4, 'universidad': 4, 'veracruzana': 4, 'taller': 4, 'integracion': 4, 'iii': 4, 'facultad': 4, 'estadistica': 4, 'informatica': 4, 'manualito': 4, 'mssql': 4, 'contenido': 4, 'crear': 4, 'store': 4, 'procedures': 4, 'proceso': 4, 'configuracion': 4, 'express': 4, 'atencion': 4, 'seguir': 4, 'paso': 8, 'saltearse': 4, 'omitir': 4, 'ninguna': 4, 'etapa': 4, 'chequeo': 4, 'previo': 4, 'chequear': 4, 'windows': 4, 'computadora': 4, 'cliente': 4, 'tenga': 4, 'permisos': 4, 'administr': 4, 'regulador': 4, 'recursos': 4, 'articulo': 4, 'tecnico': 4, 'autor': 4, 'guy': 4, 'bowerman': 4, 'revisores': 4, 'tecnicos': 4, 'jim': 4, 'van': 4, 'erve': 4, 'lindsey': 4, 'allen': 4, 'zhu': 4, 'madhan': 4, 'arumugam': 4, 'ramakrishnan': 4, 'xin': 4, 'jin': 4, 'fecha': 4, 'publicacion': 4, 'julio': 4, 'dba': 4, 'job': 4, 'profile': 4, 'administrators': 4, 'are': 4, 'responsible': 4, 'for': 4, 'the': 20, 'implementation': 4, 'configuration': 4, 'maintenance': 4, 'and': 8, 'performance': 4, 'critical': 4, 'systems': 4, 'their': 4, 'main': 4, 'goal': 4, 'ensure': 4, 'availability': 20, 'consistent': 4, 'managed': 8, 'services': 4, 'monitor': 4, 'deliverables': 4, 'service': 8, 'overview': 8, 'scope': 4, 'this': 4, 'engagement': 4, 'deliver': 4, 'monitoring': 4, 'servers': 4, 'operational': 4, 'parameters': 4, 'following': 4, 'task': 4, 'list': 4, 'that': 4, 'meets': 4, 'business': 4, 'always': 8, 'listeners': 4, 'databases': 4, 'hosted': 4, 'groups': 4, 'can': 4, 'connected': 4, 'using': 4, 'unique': 4, 'virtual': 4, 'network': 4, 'name': 4, 'vnn': 4, 'called': 4, 'group': 8, 'listener': 4, 'when': 4}\n"
     ]
    }
   ],
   "source": [
    "frequency = defaultdict(int)\n",
    "\n",
    "for words in png_words:\n",
    "    for word in words:\n",
    "        if len(word) > 2:\n",
    "            frecuency[word] += 1\n",
    "\n",
    "for words in pdf_words:\n",
    "    for word in words:\n",
    "        if len(word) > 2:\n",
    "            frecuency[word] += 1\n",
    "\n",
    "for words in docx_words:\n",
    "    for word in words:\n",
    "        if len(word) > 2:\n",
    "            frecuency[word] += 1\n",
    "\n",
    "print(frecuency)"
   ]
  },
  {
   "cell_type": "markdown",
   "id": "b34c1bd7-489b-4a5a-8957-fc8520c323d9",
   "metadata": {
    "tags": []
   },
   "source": [
    "### Tokenización\n",
    "Nuevo campo con vectores de palabras (tokenización)"
   ]
  },
  {
   "cell_type": "markdown",
   "id": "024f8004-20f5-4d54-9456-e15788d8614a",
   "metadata": {
    "jp-MarkdownHeadingCollapsed": true,
    "tags": []
   },
   "source": [
    "#### PNG vectores"
   ]
  },
  {
   "cell_type": "code",
   "execution_count": 93,
   "id": "53c73c4c-112b-4a42-9cb4-e91a8ae474d8",
   "metadata": {},
   "outputs": [
    {
     "name": "stdout",
     "output_type": "stream",
     "text": [
      "[[(0, 1), (1, 2), (2, 1), (3, 2), (4, 1), (5, 1), (6, 1), (7, 1), (8, 2), (9, 1), (10, 1), (11, 1), (12, 1), (13, 2), (14, 1), (15, 3), (16, 1), (17, 1)], [(7, 1), (8, 3), (12, 1), (15, 2), (16, 1), (18, 1), (19, 1), (20, 1), (21, 1), (22, 1), (23, 1), (24, 1), (25, 1), (26, 1), (27, 1), (28, 1), (29, 1), (30, 1), (31, 1), (32, 1)], [(15, 1), (33, 1), (34, 1), (35, 1), (36, 1), (37, 1), (38, 1), (39, 1), (40, 1), (41, 1), (42, 1), (43, 1), (44, 1), (45, 1), (46, 1), (47, 1), (48, 1), (49, 1), (50, 1), (51, 1), (52, 1), (53, 1), (54, 1), (55, 1)], [(15, 2), (43, 1), (56, 1), (57, 1), (58, 1), (59, 1), (60, 1), (61, 1), (62, 1), (63, 1), (64, 1), (65, 1), (66, 1), (67, 1), (68, 1), (69, 1), (70, 1), (71, 1), (72, 1), (73, 1), (74, 1)], [(3, 1), (15, 2), (70, 2), (75, 1), (76, 2), (77, 1), (78, 1), (79, 1), (80, 1), (81, 1), (82, 1), (83, 1), (84, 1), (85, 1), (86, 1), (87, 2), (88, 2)]]\n"
     ]
    }
   ],
   "source": [
    "png_dict = corpora.Dictionary(png_words)\n",
    "#print(png_dict.token2id) -> tokens\n",
    "\n",
    "#Convertimos palabras en vectores\n",
    "png_vect = []\n",
    "for word in png_words:\n",
    "    png_vect.append(png_dict.doc2bow(word))\n",
    "\n",
    "print(png_vect)"
   ]
  },
  {
   "cell_type": "markdown",
   "id": "369f2f51-a126-49a9-b13e-67987aa92418",
   "metadata": {
    "jp-MarkdownHeadingCollapsed": true,
    "tags": []
   },
   "source": [
    "#### PDF vectores"
   ]
  },
  {
   "cell_type": "code",
   "execution_count": 94,
   "id": "00408277-c678-48d1-a51f-20f095a20b63",
   "metadata": {},
   "outputs": [
    {
     "name": "stdout",
     "output_type": "stream",
     "text": [
      "[[(0, 1), (1, 1), (2, 1), (3, 2), (4, 1), (5, 1), (6, 1), (7, 1), (8, 3), (9, 1), (10, 2), (11, 1), (12, 2), (13, 1), (14, 3)], [(4, 1), (6, 1), (10, 1), (12, 1), (14, 3), (15, 1), (16, 1), (17, 1), (18, 1), (19, 1), (20, 1), (21, 3), (22, 1), (23, 1), (24, 1), (25, 1), (26, 1), (27, 1), (28, 3), (29, 1), (30, 1), (31, 1), (32, 1)], [(14, 1), (33, 3), (34, 2), (35, 2), (36, 1), (37, 2), (38, 1), (39, 1), (40, 1), (41, 1), (42, 1), (43, 1), (44, 3), (45, 1), (46, 1), (47, 1), (48, 2)], [(1, 1), (6, 2), (14, 2), (16, 1), (23, 1), (35, 2), (49, 1), (50, 1), (51, 1), (52, 1), (53, 1), (54, 1), (55, 1), (56, 1), (57, 1), (58, 1), (59, 1), (60, 1), (61, 1), (62, 1), (63, 2), (64, 1), (65, 1), (66, 1)], [(14, 1), (28, 2), (67, 1), (68, 1), (69, 1), (70, 1), (71, 1), (72, 1), (73, 1), (74, 1), (75, 1), (76, 1), (77, 1), (78, 1), (79, 1), (80, 1), (81, 1)]]\n"
     ]
    }
   ],
   "source": [
    "pdf_dict = corpora.Dictionary(pdf_words)\n",
    "#print(pdf_dict.token2id) -> Tokens\n",
    "\n",
    "#Convertimos palabras en vectores\n",
    "pdf_vect = []\n",
    "for word in pdf_words:\n",
    "    pdf_vect.append(pdf_dict.doc2bow(word))\n",
    "\n",
    "print(pdf_vect)"
   ]
  },
  {
   "cell_type": "markdown",
   "id": "ffb21674-17a2-4270-8800-4e20711593d0",
   "metadata": {
    "jp-MarkdownHeadingCollapsed": true,
    "tags": []
   },
   "source": [
    "#### DOCX vectores"
   ]
  },
  {
   "cell_type": "code",
   "execution_count": 95,
   "id": "35ff35f2-66d8-4b00-b0db-2f757bbeb6fd",
   "metadata": {},
   "outputs": [
    {
     "name": "stdout",
     "output_type": "stream",
     "text": [
      "[[(0, 1), (1, 1), (2, 1), (3, 1), (4, 1), (5, 1), (6, 1), (7, 1), (8, 1), (9, 1), (10, 1), (11, 1), (12, 1), (13, 2), (14, 1), (15, 1), (16, 1), (17, 1), (18, 1), (19, 1), (20, 1), (21, 1), (22, 1), (23, 1), (24, 1), (25, 1)], [(20, 2), (22, 2), (26, 1), (27, 1), (28, 1), (29, 1), (30, 1), (31, 1), (32, 1), (33, 1), (34, 1), (35, 1), (36, 1), (37, 1), (38, 1), (39, 1), (40, 1), (41, 1), (42, 1), (43, 1), (44, 1), (45, 1), (46, 1), (47, 1), (48, 1), (49, 1)], [(20, 3), (22, 3), (50, 1), (51, 2), (52, 1), (53, 1), (54, 1), (55, 1), (56, 1), (57, 1), (58, 1), (59, 1), (60, 1), (61, 1), (62, 1), (63, 1), (64, 1), (65, 1), (66, 1), (67, 1), (68, 1), (69, 1), (70, 1), (71, 1), (72, 1), (73, 1), (74, 2), (75, 1), (76, 1)], [(20, 2), (22, 3), (63, 1), (67, 1), (74, 2), (76, 1), (77, 1), (78, 1), (79, 1), (80, 1), (81, 1), (82, 1), (83, 2), (84, 1), (85, 1), (86, 1), (87, 1), (88, 1), (89, 1), (90, 1), (91, 1), (92, 2), (93, 1), (94, 1), (95, 1), (96, 1)], [(20, 2), (22, 2), (53, 4), (67, 1), (74, 1), (88, 1), (97, 1), (98, 2), (99, 1), (100, 1), (101, 1), (102, 1), (103, 1), (104, 1), (105, 2), (106, 1), (107, 1), (108, 1), (109, 1), (110, 1), (111, 1), (112, 3), (113, 1), (114, 1), (115, 1), (116, 1), (117, 1)]]\n"
     ]
    }
   ],
   "source": [
    "docx_dict = corpora.Dictionary(docx_words)\n",
    "#print(docx_dict.token2id) -> Tokens\n",
    "\n",
    "#Convertimos palabras en vectores\n",
    "docx_vect = []\n",
    "for word in docx_words:\n",
    "    docx_vect.append(docx_dict.doc2bow(word))\n",
    "\n",
    "print(docx_vect)"
   ]
  },
  {
   "cell_type": "markdown",
   "id": "c34dd624-a3de-4f7e-9c83-61eddab87c03",
   "metadata": {
    "jp-MarkdownHeadingCollapsed": true,
    "tags": []
   },
   "source": [
    "### Imagen\n",
    "Imagen con top 100 palabras más frecuentes "
   ]
  },
  {
   "cell_type": "code",
   "execution_count": 85,
   "id": "59a64e2e-6008-4576-b537-bf27dc662782",
   "metadata": {},
   "outputs": [
    {
     "data": {
      "image/png": "[encoded data removed]",
      "text/plain": [
       "<Figure size 432x288 with 1 Axes>"
      ]
     },
     "metadata": {
      "needs_background": "light"
     },
     "output_type": "display_data"
    }
   ],
   "source": [
    "wc = WordCloud(background_color=\"white\",width=1000,height=1000, max_words=100,relative_scaling=0.5,normalize_plurals=False).generate_from_frequencies(frecuency)\n",
    "plt.axis('off')\n",
    "plt.imshow(wc)\n",
    "plt.savefig('docs/bow/top100.png', dpi=199)"
   ]
  }
 ],
 "metadata": {
  "kernelspec": {
   "display_name": "myenv",
   "language": "python",
   "name": "myenv"
  },
  "language_info": {
   "codemirror_mode": {
    "name": "ipython",
    "version": 3
   },
   "file_extension": ".py",
   "mimetype": "text/x-python",
   "name": "python",
   "nbconvert_exporter": "python",
   "pygments_lexer": "ipython3",
   "version": "3.10.2"
  }
 },
 "nbformat": 4,
 "nbformat_minor": 5
}
